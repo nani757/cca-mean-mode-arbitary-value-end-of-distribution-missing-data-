{
 "cells": [
  {
   "cell_type": "code",
   "execution_count": 1,
   "id": "7488f16f",
   "metadata": {},
   "outputs": [],
   "source": [
    "import pandas as pd\n",
    "import numpy as np\n",
    "import matplotlib.pyplot as plt\n",
    "import seaborn as sns"
   ]
  },
  {
   "cell_type": "code",
   "execution_count": 2,
   "id": "9d9ebc4f",
   "metadata": {},
   "outputs": [],
   "source": [
    "from sklearn.model_selection import train_test_split\n",
    "from sklearn.impute import SimpleImputer\n",
    "from sklearn.compose import ColumnTransformer"
   ]
  },
  {
   "cell_type": "code",
   "execution_count": 3,
   "id": "953979cd",
   "metadata": {
    "scrolled": true
   },
   "outputs": [
    {
     "data": {
      "text/html": [
       "<div>\n",
       "<style scoped>\n",
       "    .dataframe tbody tr th:only-of-type {\n",
       "        vertical-align: middle;\n",
       "    }\n",
       "\n",
       "    .dataframe tbody tr th {\n",
       "        vertical-align: top;\n",
       "    }\n",
       "\n",
       "    .dataframe thead th {\n",
       "        text-align: right;\n",
       "    }\n",
       "</style>\n",
       "<table border=\"1\" class=\"dataframe\">\n",
       "  <thead>\n",
       "    <tr style=\"text-align: right;\">\n",
       "      <th></th>\n",
       "      <th>Age</th>\n",
       "      <th>Fare</th>\n",
       "      <th>Family</th>\n",
       "      <th>Survived</th>\n",
       "    </tr>\n",
       "  </thead>\n",
       "  <tbody>\n",
       "    <tr>\n",
       "      <th>789</th>\n",
       "      <td>46.0</td>\n",
       "      <td>79.2000</td>\n",
       "      <td>0</td>\n",
       "      <td>0</td>\n",
       "    </tr>\n",
       "    <tr>\n",
       "      <th>248</th>\n",
       "      <td>37.0</td>\n",
       "      <td>52.5542</td>\n",
       "      <td>2</td>\n",
       "      <td>1</td>\n",
       "    </tr>\n",
       "    <tr>\n",
       "      <th>134</th>\n",
       "      <td>25.0</td>\n",
       "      <td>13.0000</td>\n",
       "      <td>0</td>\n",
       "      <td>0</td>\n",
       "    </tr>\n",
       "    <tr>\n",
       "      <th>77</th>\n",
       "      <td>NaN</td>\n",
       "      <td>8.0500</td>\n",
       "      <td>0</td>\n",
       "      <td>0</td>\n",
       "    </tr>\n",
       "    <tr>\n",
       "      <th>743</th>\n",
       "      <td>24.0</td>\n",
       "      <td>16.1000</td>\n",
       "      <td>1</td>\n",
       "      <td>0</td>\n",
       "    </tr>\n",
       "    <tr>\n",
       "      <th>205</th>\n",
       "      <td>2.0</td>\n",
       "      <td>10.4625</td>\n",
       "      <td>1</td>\n",
       "      <td>0</td>\n",
       "    </tr>\n",
       "    <tr>\n",
       "      <th>876</th>\n",
       "      <td>20.0</td>\n",
       "      <td>9.8458</td>\n",
       "      <td>0</td>\n",
       "      <td>0</td>\n",
       "    </tr>\n",
       "    <tr>\n",
       "      <th>95</th>\n",
       "      <td>NaN</td>\n",
       "      <td>8.0500</td>\n",
       "      <td>0</td>\n",
       "      <td>0</td>\n",
       "    </tr>\n",
       "  </tbody>\n",
       "</table>\n",
       "</div>"
      ],
      "text/plain": [
       "      Age     Fare  Family  Survived\n",
       "789  46.0  79.2000       0         0\n",
       "248  37.0  52.5542       2         1\n",
       "134  25.0  13.0000       0         0\n",
       "77    NaN   8.0500       0         0\n",
       "743  24.0  16.1000       1         0\n",
       "205   2.0  10.4625       1         0\n",
       "876  20.0   9.8458       0         0\n",
       "95    NaN   8.0500       0         0"
      ]
     },
     "execution_count": 3,
     "metadata": {},
     "output_type": "execute_result"
    }
   ],
   "source": [
    "df=pd.read_csv('Titanic_toy.csv')\n",
    "df.sample(8)"
   ]
  },
  {
   "cell_type": "code",
   "execution_count": 4,
   "id": "c935cfa8",
   "metadata": {},
   "outputs": [
    {
     "data": {
      "text/plain": [
       "(891, 4)"
      ]
     },
     "execution_count": 4,
     "metadata": {},
     "output_type": "execute_result"
    }
   ],
   "source": [
    "df.shape"
   ]
  },
  {
   "cell_type": "code",
   "execution_count": 5,
   "id": "60c818c3",
   "metadata": {},
   "outputs": [
    {
     "name": "stdout",
     "output_type": "stream",
     "text": [
      "<class 'pandas.core.frame.DataFrame'>\n",
      "RangeIndex: 891 entries, 0 to 890\n",
      "Data columns (total 4 columns):\n",
      " #   Column    Non-Null Count  Dtype  \n",
      "---  ------    --------------  -----  \n",
      " 0   Age       714 non-null    float64\n",
      " 1   Fare      846 non-null    float64\n",
      " 2   Family    891 non-null    int64  \n",
      " 3   Survived  891 non-null    int64  \n",
      "dtypes: float64(2), int64(2)\n",
      "memory usage: 28.0 KB\n"
     ]
    }
   ],
   "source": [
    "df.info()"
   ]
  },
  {
   "cell_type": "code",
   "execution_count": 6,
   "id": "fc965190",
   "metadata": {},
   "outputs": [
    {
     "data": {
      "text/plain": [
       "Age         177\n",
       "Fare         45\n",
       "Family        0\n",
       "Survived      0\n",
       "dtype: int64"
      ]
     },
     "execution_count": 6,
     "metadata": {},
     "output_type": "execute_result"
    }
   ],
   "source": [
    "df.isnull().sum()"
   ]
  },
  {
   "cell_type": "code",
   "execution_count": 7,
   "id": "612ca478",
   "metadata": {},
   "outputs": [
    {
     "data": {
      "text/plain": [
       "Age         19.865320\n",
       "Fare         5.050505\n",
       "Family       0.000000\n",
       "Survived     0.000000\n",
       "dtype: float64"
      ]
     },
     "execution_count": 7,
     "metadata": {},
     "output_type": "execute_result"
    }
   ],
   "source": [
    "df.isnull().mean()*100 "
   ]
  },
  {
   "cell_type": "code",
   "execution_count": 8,
   "id": "33c53642",
   "metadata": {},
   "outputs": [],
   "source": [
    "X = df.drop(columns=['Survived'])\n",
    "y =df['Survived']"
   ]
  },
  {
   "cell_type": "code",
   "execution_count": 9,
   "id": "602607f5",
   "metadata": {},
   "outputs": [],
   "source": [
    "X_train,X_test,y_train,y_test = train_test_split(X,y,test_size=0.2,random_state=48)"
   ]
  },
  {
   "cell_type": "code",
   "execution_count": 10,
   "id": "a2e91152",
   "metadata": {},
   "outputs": [
    {
     "data": {
      "text/plain": [
       "((712, 3), (179, 3))"
      ]
     },
     "execution_count": 10,
     "metadata": {},
     "output_type": "execute_result"
    }
   ],
   "source": [
    "X_train.shape,X_test.shape"
   ]
  },
  {
   "cell_type": "code",
   "execution_count": 11,
   "id": "f9f00877",
   "metadata": {
    "scrolled": true
   },
   "outputs": [
    {
     "data": {
      "text/plain": [
       "Age       20.365169\n",
       "Fare       4.915730\n",
       "Family     0.000000\n",
       "dtype: float64"
      ]
     },
     "execution_count": 11,
     "metadata": {},
     "output_type": "execute_result"
    }
   ],
   "source": [
    "X_train.isnull().mean()*100"
   ]
  },
  {
   "cell_type": "code",
   "execution_count": 12,
   "id": "07348fd4",
   "metadata": {},
   "outputs": [],
   "source": [
    "mean_age = X_train['Age'].mean()\n",
    "median_age = X_train['Age'].median()\n",
    "\n",
    "mean_Fare = X_train['Fare'].mean()\n",
    "median_Fare = X_train['Fare'].median()"
   ]
  },
  {
   "cell_type": "code",
   "execution_count": 13,
   "id": "b5ab7d56",
   "metadata": {},
   "outputs": [
    {
     "name": "stderr",
     "output_type": "stream",
     "text": [
      "C:\\Users\\nagam\\AppData\\Local\\Temp/ipykernel_7432/2687962338.py:1: SettingWithCopyWarning: \n",
      "A value is trying to be set on a copy of a slice from a DataFrame.\n",
      "Try using .loc[row_indexer,col_indexer] = value instead\n",
      "\n",
      "See the caveats in the documentation: https://pandas.pydata.org/pandas-docs/stable/user_guide/indexing.html#returning-a-view-versus-a-copy\n",
      "  X_train['Age_mean'] = X_train['Age'].fillna(99.999)\n",
      "C:\\Users\\nagam\\AppData\\Local\\Temp/ipykernel_7432/2687962338.py:2: SettingWithCopyWarning: \n",
      "A value is trying to be set on a copy of a slice from a DataFrame.\n",
      "Try using .loc[row_indexer,col_indexer] = value instead\n",
      "\n",
      "See the caveats in the documentation: https://pandas.pydata.org/pandas-docs/stable/user_guide/indexing.html#returning-a-view-versus-a-copy\n",
      "  X_train['Age_median'] = X_train['Age'].fillna(-1)\n",
      "C:\\Users\\nagam\\AppData\\Local\\Temp/ipykernel_7432/2687962338.py:4: SettingWithCopyWarning: \n",
      "A value is trying to be set on a copy of a slice from a DataFrame.\n",
      "Try using .loc[row_indexer,col_indexer] = value instead\n",
      "\n",
      "See the caveats in the documentation: https://pandas.pydata.org/pandas-docs/stable/user_guide/indexing.html#returning-a-view-versus-a-copy\n",
      "  X_train['Fare_mean'] = X_train['Fare'].fillna(99.999)\n",
      "C:\\Users\\nagam\\AppData\\Local\\Temp/ipykernel_7432/2687962338.py:5: SettingWithCopyWarning: \n",
      "A value is trying to be set on a copy of a slice from a DataFrame.\n",
      "Try using .loc[row_indexer,col_indexer] = value instead\n",
      "\n",
      "See the caveats in the documentation: https://pandas.pydata.org/pandas-docs/stable/user_guide/indexing.html#returning-a-view-versus-a-copy\n",
      "  X_train['Fare_median'] = X_train['Fare'].fillna(-1)\n"
     ]
    }
   ],
   "source": [
    "X_train['Age_mean'] = X_train['Age'].fillna(99.999)\n",
    "X_train['Age_median'] = X_train['Age'].fillna(-1)\n",
    "\n",
    "X_train['Fare_mean'] = X_train['Fare'].fillna(99.999)\n",
    "X_train['Fare_median'] = X_train['Fare'].fillna(-1)"
   ]
  },
  {
   "cell_type": "code",
   "execution_count": 14,
   "id": "05ffb076",
   "metadata": {},
   "outputs": [
    {
     "data": {
      "text/html": [
       "<div>\n",
       "<style scoped>\n",
       "    .dataframe tbody tr th:only-of-type {\n",
       "        vertical-align: middle;\n",
       "    }\n",
       "\n",
       "    .dataframe tbody tr th {\n",
       "        vertical-align: top;\n",
       "    }\n",
       "\n",
       "    .dataframe thead th {\n",
       "        text-align: right;\n",
       "    }\n",
       "</style>\n",
       "<table border=\"1\" class=\"dataframe\">\n",
       "  <thead>\n",
       "    <tr style=\"text-align: right;\">\n",
       "      <th></th>\n",
       "      <th>Age</th>\n",
       "      <th>Fare</th>\n",
       "      <th>Family</th>\n",
       "      <th>Age_mean</th>\n",
       "      <th>Age_median</th>\n",
       "      <th>Fare_mean</th>\n",
       "      <th>Fare_median</th>\n",
       "    </tr>\n",
       "  </thead>\n",
       "  <tbody>\n",
       "    <tr>\n",
       "      <th>72</th>\n",
       "      <td>21.0</td>\n",
       "      <td>73.5000</td>\n",
       "      <td>0</td>\n",
       "      <td>21.000</td>\n",
       "      <td>21.0</td>\n",
       "      <td>73.5000</td>\n",
       "      <td>73.5000</td>\n",
       "    </tr>\n",
       "    <tr>\n",
       "      <th>667</th>\n",
       "      <td>NaN</td>\n",
       "      <td>7.7750</td>\n",
       "      <td>0</td>\n",
       "      <td>99.999</td>\n",
       "      <td>-1.0</td>\n",
       "      <td>7.7750</td>\n",
       "      <td>7.7750</td>\n",
       "    </tr>\n",
       "    <tr>\n",
       "      <th>124</th>\n",
       "      <td>54.0</td>\n",
       "      <td>77.2875</td>\n",
       "      <td>1</td>\n",
       "      <td>54.000</td>\n",
       "      <td>54.0</td>\n",
       "      <td>77.2875</td>\n",
       "      <td>77.2875</td>\n",
       "    </tr>\n",
       "    <tr>\n",
       "      <th>691</th>\n",
       "      <td>4.0</td>\n",
       "      <td>13.4167</td>\n",
       "      <td>1</td>\n",
       "      <td>4.000</td>\n",
       "      <td>4.0</td>\n",
       "      <td>13.4167</td>\n",
       "      <td>13.4167</td>\n",
       "    </tr>\n",
       "    <tr>\n",
       "      <th>588</th>\n",
       "      <td>22.0</td>\n",
       "      <td>8.0500</td>\n",
       "      <td>0</td>\n",
       "      <td>22.000</td>\n",
       "      <td>22.0</td>\n",
       "      <td>8.0500</td>\n",
       "      <td>8.0500</td>\n",
       "    </tr>\n",
       "  </tbody>\n",
       "</table>\n",
       "</div>"
      ],
      "text/plain": [
       "      Age     Fare  Family  Age_mean  Age_median  Fare_mean  Fare_median\n",
       "72   21.0  73.5000       0    21.000        21.0    73.5000      73.5000\n",
       "667   NaN   7.7750       0    99.999        -1.0     7.7750       7.7750\n",
       "124  54.0  77.2875       1    54.000        54.0    77.2875      77.2875\n",
       "691   4.0  13.4167       1     4.000         4.0    13.4167      13.4167\n",
       "588  22.0   8.0500       0    22.000        22.0     8.0500       8.0500"
      ]
     },
     "execution_count": 14,
     "metadata": {},
     "output_type": "execute_result"
    }
   ],
   "source": [
    "X_train.sample(5)"
   ]
  },
  {
   "cell_type": "code",
   "execution_count": 15,
   "id": "121e06fb",
   "metadata": {},
   "outputs": [
    {
     "name": "stdout",
     "output_type": "stream",
     "text": [
      "original age variable varience  215.80700185714886\n",
      "mean age variable imputation  972.0117324922466\n",
      "median age variable imputation  325.9056911090157\n",
      "\n",
      "\n",
      "original age variable varience  2347.763155700171\n",
      "mean age variable imputation  2450.9385995569173\n",
      "median age variable imputation  2282.04675605975\n"
     ]
    }
   ],
   "source": [
    "print(\"original age variable varience \",X_train['Age'].var())\n",
    "print(\"mean age variable imputation \",X_train['Age_mean'].var())\n",
    "print(\"median age variable imputation \",X_train['Age_median'].var())\n",
    "print('\\n')\n",
    "print(\"original age variable varience \",X_train['Fare'].var())\n",
    "print(\"mean age variable imputation \",X_train['Fare_mean'].var())\n",
    "print(\"median age variable imputation \",X_train['Fare_median'].var())"
   ]
  },
  {
   "cell_type": "code",
   "execution_count": 16,
   "id": "e3e3d280",
   "metadata": {},
   "outputs": [
    {
     "data": {
      "text/plain": [
       "<matplotlib.legend.Legend at 0x22d66129ee0>"
      ]
     },
     "execution_count": 16,
     "metadata": {},
     "output_type": "execute_result"
    },
    {
     "data": {
      "image/png": "[encoded data removed]",
      "text/plain": [
       "<Figure size 432x288 with 1 Axes>"
      ]
     },
     "metadata": {
      "needs_background": "light"
     },
     "output_type": "display_data"
    }
   ],
   "source": [
    "fig = plt.figure()\n",
    "ax= fig.add_subplot(111)\n",
    "\n",
    "#original variable distribution\n",
    "X_train['Age'].plot(kind = 'kde', ax=ax, linewidth=2)\n",
    "\n",
    "#variable imputed with median\n",
    "X_train['Age_median'].plot(kind = 'kde', ax=ax,color ='red', linewidth=2)\n",
    "\n",
    "# variable imputed with mean\n",
    "X_train['Age_mean'].plot(kind = 'kde', ax=ax,color ='gray', linewidth=2)\n",
    "\n",
    "# add legends\n",
    "lines, labels = ax.get_legend_handles_labels()\n",
    "ax.legend(lines, labels, loc='best')"
   ]
  },
  {
   "cell_type": "code",
   "execution_count": 17,
   "id": "73830253",
   "metadata": {},
   "outputs": [
    {
     "data": {
      "text/plain": [
       "<matplotlib.legend.Legend at 0x22d662dbfa0>"
      ]
     },
     "execution_count": 17,
     "metadata": {},
     "output_type": "execute_result"
    },
    {
     "data": {
      "image/png": "[encoded data removed]",
      "text/plain": [
       "<Figure size 432x288 with 1 Axes>"
      ]
     },
     "metadata": {
      "needs_background": "light"
     },
     "output_type": "display_data"
    }
   ],
   "source": [
    "fig = plt.figure()\n",
    "ax= fig.add_subplot(111)\n",
    "\n",
    "#original variable distribution\n",
    "X_train['Fare'].plot(kind = 'kde', ax=ax)\n",
    "\n",
    "#variable imputed with median\n",
    "X_train['Fare_median'].plot(kind = 'kde', ax=ax,color ='red')\n",
    "\n",
    "# variable imputed with mean\n",
    "X_train['Fare_mean'].plot(kind = 'kde', ax=ax,color ='gray')\n",
    "\n",
    "# add legends\n",
    "lines, labels = ax.get_legend_handles_labels()\n",
    "ax.legend(lines, labels, loc='best')"
   ]
  },
  {
   "cell_type": "code",
   "execution_count": 18,
   "id": "d9695d20",
   "metadata": {},
   "outputs": [
    {
     "data": {
      "text/html": [
       "<div>\n",
       "<style scoped>\n",
       "    .dataframe tbody tr th:only-of-type {\n",
       "        vertical-align: middle;\n",
       "    }\n",
       "\n",
       "    .dataframe tbody tr th {\n",
       "        vertical-align: top;\n",
       "    }\n",
       "\n",
       "    .dataframe thead th {\n",
       "        text-align: right;\n",
       "    }\n",
       "</style>\n",
       "<table border=\"1\" class=\"dataframe\">\n",
       "  <thead>\n",
       "    <tr style=\"text-align: right;\">\n",
       "      <th></th>\n",
       "      <th>Age</th>\n",
       "      <th>Fare</th>\n",
       "      <th>Family</th>\n",
       "      <th>Age_mean</th>\n",
       "      <th>Age_median</th>\n",
       "      <th>Fare_mean</th>\n",
       "      <th>Fare_median</th>\n",
       "    </tr>\n",
       "  </thead>\n",
       "  <tbody>\n",
       "    <tr>\n",
       "      <th>Age</th>\n",
       "      <td>215.807002</td>\n",
       "      <td>77.465380</td>\n",
       "      <td>-7.448828</td>\n",
       "      <td>215.807002</td>\n",
       "      <td>215.807002</td>\n",
       "      <td>86.176674</td>\n",
       "      <td>66.180391</td>\n",
       "    </tr>\n",
       "    <tr>\n",
       "      <th>Fare</th>\n",
       "      <td>77.465380</td>\n",
       "      <td>2347.763156</td>\n",
       "      <td>16.763605</td>\n",
       "      <td>-102.409683</td>\n",
       "      <td>132.454778</td>\n",
       "      <td>2347.763156</td>\n",
       "      <td>2347.763156</td>\n",
       "    </tr>\n",
       "    <tr>\n",
       "      <th>Family</th>\n",
       "      <td>-7.448828</td>\n",
       "      <td>16.763605</td>\n",
       "      <td>2.586672</td>\n",
       "      <td>-9.294191</td>\n",
       "      <td>-4.453249</td>\n",
       "      <td>15.488973</td>\n",
       "      <td>16.152946</td>\n",
       "    </tr>\n",
       "    <tr>\n",
       "      <th>Age_mean</th>\n",
       "      <td>215.807002</td>\n",
       "      <td>-102.409683</td>\n",
       "      <td>-9.294191</td>\n",
       "      <td>972.011732</td>\n",
       "      <td>-179.375538</td>\n",
       "      <td>-107.704079</td>\n",
       "      <td>-92.434139</td>\n",
       "    </tr>\n",
       "    <tr>\n",
       "      <th>Age_median</th>\n",
       "      <td>215.807002</td>\n",
       "      <td>132.454778</td>\n",
       "      <td>-4.453249</td>\n",
       "      <td>-179.375538</td>\n",
       "      <td>325.905691</td>\n",
       "      <td>145.973097</td>\n",
       "      <td>116.368005</td>\n",
       "    </tr>\n",
       "    <tr>\n",
       "      <th>Fare_mean</th>\n",
       "      <td>86.176674</td>\n",
       "      <td>2347.763156</td>\n",
       "      <td>15.488973</td>\n",
       "      <td>-107.704079</td>\n",
       "      <td>145.973097</td>\n",
       "      <td>2450.938600</td>\n",
       "      <td>2127.760329</td>\n",
       "    </tr>\n",
       "    <tr>\n",
       "      <th>Fare_median</th>\n",
       "      <td>66.180391</td>\n",
       "      <td>2347.763156</td>\n",
       "      <td>16.152946</td>\n",
       "      <td>-92.434139</td>\n",
       "      <td>116.368005</td>\n",
       "      <td>2127.760329</td>\n",
       "      <td>2282.046756</td>\n",
       "    </tr>\n",
       "  </tbody>\n",
       "</table>\n",
       "</div>"
      ],
      "text/plain": [
       "                    Age         Fare     Family    Age_mean  Age_median  \\\n",
       "Age          215.807002    77.465380  -7.448828  215.807002  215.807002   \n",
       "Fare          77.465380  2347.763156  16.763605 -102.409683  132.454778   \n",
       "Family        -7.448828    16.763605   2.586672   -9.294191   -4.453249   \n",
       "Age_mean     215.807002  -102.409683  -9.294191  972.011732 -179.375538   \n",
       "Age_median   215.807002   132.454778  -4.453249 -179.375538  325.905691   \n",
       "Fare_mean     86.176674  2347.763156  15.488973 -107.704079  145.973097   \n",
       "Fare_median   66.180391  2347.763156  16.152946  -92.434139  116.368005   \n",
       "\n",
       "               Fare_mean  Fare_median  \n",
       "Age            86.176674    66.180391  \n",
       "Fare         2347.763156  2347.763156  \n",
       "Family         15.488973    16.152946  \n",
       "Age_mean     -107.704079   -92.434139  \n",
       "Age_median    145.973097   116.368005  \n",
       "Fare_mean    2450.938600  2127.760329  \n",
       "Fare_median  2127.760329  2282.046756  "
      ]
     },
     "execution_count": 18,
     "metadata": {},
     "output_type": "execute_result"
    }
   ],
   "source": [
    "X_train.cov()"
   ]
  },
  {
   "cell_type": "code",
   "execution_count": 19,
   "id": "37a34059",
   "metadata": {},
   "outputs": [
    {
     "data": {
      "text/html": [
       "<div>\n",
       "<style scoped>\n",
       "    .dataframe tbody tr th:only-of-type {\n",
       "        vertical-align: middle;\n",
       "    }\n",
       "\n",
       "    .dataframe tbody tr th {\n",
       "        vertical-align: top;\n",
       "    }\n",
       "\n",
       "    .dataframe thead th {\n",
       "        text-align: right;\n",
       "    }\n",
       "</style>\n",
       "<table border=\"1\" class=\"dataframe\">\n",
       "  <thead>\n",
       "    <tr style=\"text-align: right;\">\n",
       "      <th></th>\n",
       "      <th>Age</th>\n",
       "      <th>Fare</th>\n",
       "      <th>Family</th>\n",
       "      <th>Age_mean</th>\n",
       "      <th>Age_median</th>\n",
       "      <th>Fare_mean</th>\n",
       "      <th>Fare_median</th>\n",
       "    </tr>\n",
       "  </thead>\n",
       "  <tbody>\n",
       "    <tr>\n",
       "      <th>Age</th>\n",
       "      <td>1.000000</td>\n",
       "      <td>0.099642</td>\n",
       "      <td>-0.335645</td>\n",
       "      <td>1.000000</td>\n",
       "      <td>1.000000</td>\n",
       "      <td>0.111039</td>\n",
       "      <td>0.087764</td>\n",
       "    </tr>\n",
       "    <tr>\n",
       "      <th>Fare</th>\n",
       "      <td>0.099642</td>\n",
       "      <td>1.000000</td>\n",
       "      <td>0.212744</td>\n",
       "      <td>-0.067021</td>\n",
       "      <td>0.150355</td>\n",
       "      <td>1.000000</td>\n",
       "      <td>1.000000</td>\n",
       "    </tr>\n",
       "    <tr>\n",
       "      <th>Family</th>\n",
       "      <td>-0.335645</td>\n",
       "      <td>0.212744</td>\n",
       "      <td>1.000000</td>\n",
       "      <td>-0.185355</td>\n",
       "      <td>-0.153377</td>\n",
       "      <td>0.194530</td>\n",
       "      <td>0.210242</td>\n",
       "    </tr>\n",
       "    <tr>\n",
       "      <th>Age_mean</th>\n",
       "      <td>1.000000</td>\n",
       "      <td>-0.067021</td>\n",
       "      <td>-0.185355</td>\n",
       "      <td>1.000000</td>\n",
       "      <td>-0.318700</td>\n",
       "      <td>-0.069780</td>\n",
       "      <td>-0.062063</td>\n",
       "    </tr>\n",
       "    <tr>\n",
       "      <th>Age_median</th>\n",
       "      <td>1.000000</td>\n",
       "      <td>0.150355</td>\n",
       "      <td>-0.153377</td>\n",
       "      <td>-0.318700</td>\n",
       "      <td>1.000000</td>\n",
       "      <td>0.163328</td>\n",
       "      <td>0.134935</td>\n",
       "    </tr>\n",
       "    <tr>\n",
       "      <th>Fare_mean</th>\n",
       "      <td>0.111039</td>\n",
       "      <td>1.000000</td>\n",
       "      <td>0.194530</td>\n",
       "      <td>-0.069780</td>\n",
       "      <td>0.163328</td>\n",
       "      <td>1.000000</td>\n",
       "      <td>0.899693</td>\n",
       "    </tr>\n",
       "    <tr>\n",
       "      <th>Fare_median</th>\n",
       "      <td>0.087764</td>\n",
       "      <td>1.000000</td>\n",
       "      <td>0.210242</td>\n",
       "      <td>-0.062063</td>\n",
       "      <td>0.134935</td>\n",
       "      <td>0.899693</td>\n",
       "      <td>1.000000</td>\n",
       "    </tr>\n",
       "  </tbody>\n",
       "</table>\n",
       "</div>"
      ],
      "text/plain": [
       "                  Age      Fare    Family  Age_mean  Age_median  Fare_mean  \\\n",
       "Age          1.000000  0.099642 -0.335645  1.000000    1.000000   0.111039   \n",
       "Fare         0.099642  1.000000  0.212744 -0.067021    0.150355   1.000000   \n",
       "Family      -0.335645  0.212744  1.000000 -0.185355   -0.153377   0.194530   \n",
       "Age_mean     1.000000 -0.067021 -0.185355  1.000000   -0.318700  -0.069780   \n",
       "Age_median   1.000000  0.150355 -0.153377 -0.318700    1.000000   0.163328   \n",
       "Fare_mean    0.111039  1.000000  0.194530 -0.069780    0.163328   1.000000   \n",
       "Fare_median  0.087764  1.000000  0.210242 -0.062063    0.134935   0.899693   \n",
       "\n",
       "             Fare_median  \n",
       "Age             0.087764  \n",
       "Fare            1.000000  \n",
       "Family          0.210242  \n",
       "Age_mean       -0.062063  \n",
       "Age_median      0.134935  \n",
       "Fare_mean       0.899693  \n",
       "Fare_median     1.000000  "
      ]
     },
     "execution_count": 19,
     "metadata": {},
     "output_type": "execute_result"
    }
   ],
   "source": [
    "X_train.corr()"
   ]
  },
  {
   "cell_type": "code",
   "execution_count": 20,
   "id": "dd483a25",
   "metadata": {},
   "outputs": [
    {
     "data": {
      "text/plain": [
       "<AxesSubplot:>"
      ]
     },
     "execution_count": 20,
     "metadata": {},
     "output_type": "execute_result"
    },
    {
     "data": {
      "image/png": "[encoded data removed]",
      "text/plain": [
       "<Figure size 432x288 with 1 Axes>"
      ]
     },
     "metadata": {
      "needs_background": "light"
     },
     "output_type": "display_data"
    }
   ],
   "source": [
    "X_train[['Age','Age_median','Age_mean']].boxplot()# for seeing outliers"
   ]
  },
  {
   "cell_type": "code",
   "execution_count": 21,
   "id": "69ef5632",
   "metadata": {},
   "outputs": [
    {
     "data": {
      "text/plain": [
       "<AxesSubplot:>"
      ]
     },
     "execution_count": 21,
     "metadata": {},
     "output_type": "execute_result"
    },
    {
     "data": {
      "image/png": "[encoded data removed]",
      "text/plain": [
       "<Figure size 432x288 with 1 Axes>"
      ]
     },
     "metadata": {
      "needs_background": "light"
     },
     "output_type": "display_data"
    }
   ],
   "source": [
    "X_train[['Fare','Fare_median','Fare_mean']].boxplot()# for seeing outliers"
   ]
  },
  {
   "cell_type": "markdown",
   "id": "fd0b64e9",
   "metadata": {},
   "source": [
    "### Using Sklearn"
   ]
  },
  {
   "cell_type": "code",
   "execution_count": 22,
   "id": "cef6b16c",
   "metadata": {},
   "outputs": [],
   "source": [
    "X_train,X_test,y_train,y_test = train_test_split(X,y,test_size=0.2,random_state=48)"
   ]
  },
  {
   "cell_type": "code",
   "execution_count": 23,
   "id": "613c4e2c",
   "metadata": {},
   "outputs": [],
   "source": [
    "imputer1 =SimpleImputer(strategy ='median')\n",
    "imputer2 =SimpleImputer(strategy ='mean')"
   ]
  },
  {
   "cell_type": "code",
   "execution_count": 24,
   "id": "65bbc203",
   "metadata": {},
   "outputs": [],
   "source": [
    "trf = ColumnTransformer([\n",
    "    ('imputer1',imputer1,['Age']),\n",
    "    ('imputer2',imputer2,['Fare'])\n",
    "],remainder ='passthrough')"
   ]
  },
  {
   "cell_type": "code",
   "execution_count": 25,
   "id": "597ddc0f",
   "metadata": {},
   "outputs": [
    {
     "data": {
      "text/plain": [
       "ColumnTransformer(remainder='passthrough',\n",
       "                  transformers=[('imputer1', SimpleImputer(strategy='median'),\n",
       "                                 ['Age']),\n",
       "                                ('imputer2', SimpleImputer(), ['Fare'])])"
      ]
     },
     "execution_count": 25,
     "metadata": {},
     "output_type": "execute_result"
    }
   ],
   "source": [
    "trf.fit(X_train)"
   ]
  },
  {
   "cell_type": "code",
   "execution_count": 26,
   "id": "b7fe04b8",
   "metadata": {},
   "outputs": [
    {
     "data": {
      "text/plain": [
       "array([31.63649631])"
      ]
     },
     "execution_count": 26,
     "metadata": {},
     "output_type": "execute_result"
    }
   ],
   "source": [
    "trf.named_transformers_['imputer2'].statistics_"
   ]
  },
  {
   "cell_type": "code",
   "execution_count": 27,
   "id": "fba5cf6e",
   "metadata": {},
   "outputs": [
    {
     "data": {
      "text/plain": [
       "array([28.])"
      ]
     },
     "execution_count": 27,
     "metadata": {},
     "output_type": "execute_result"
    }
   ],
   "source": [
    "trf.named_transformers_['imputer1'].statistics_"
   ]
  },
  {
   "cell_type": "code",
   "execution_count": 28,
   "id": "5ecae277",
   "metadata": {},
   "outputs": [],
   "source": [
    "X_train = trf.fit_transform(X_train)\n",
    "X_test = trf.transform(X_test)"
   ]
  },
  {
   "cell_type": "code",
   "execution_count": 29,
   "id": "3fe10dae",
   "metadata": {},
   "outputs": [
    {
     "data": {
      "text/plain": [
       "array([[  9.    ,  31.3875,   6.    ],\n",
       "       [ 28.    ,   7.8958,   0.    ],\n",
       "       [ 28.    ,  69.55  ,  10.    ],\n",
       "       ...,\n",
       "       [ 41.    , 134.5   ,   0.    ],\n",
       "       [ 28.    ,   8.05  ,   0.    ],\n",
       "       [ 36.    ,  26.2875,   0.    ]])"
      ]
     },
     "execution_count": 29,
     "metadata": {},
     "output_type": "execute_result"
    }
   ],
   "source": [
    "X_train"
   ]
  },
  {
   "cell_type": "code",
   "execution_count": null,
   "id": "4a5403e8",
   "metadata": {},
   "outputs": [],
   "source": []
  }
 ],
 "metadata": {
  "kernelspec": {
   "display_name": "Python 3 (ipykernel)",
   "language": "python",
   "name": "python3"
  },
  "language_info": {
   "codemirror_mode": {
    "name": "ipython",
    "version": 3
   },
   "file_extension": ".py",
   "mimetype": "text/x-python",
   "name": "python",
   "nbconvert_exporter": "python",
   "pygments_lexer": "ipython3",
   "version": "3.9.7"
  }
 },
 "nbformat": 4,
 "nbformat_minor": 5
}
