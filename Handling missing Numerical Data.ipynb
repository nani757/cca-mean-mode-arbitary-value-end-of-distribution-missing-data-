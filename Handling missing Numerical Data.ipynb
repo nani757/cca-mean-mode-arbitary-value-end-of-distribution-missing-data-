{
 "cells": [
  {
   "cell_type": "code",
   "execution_count": 1,
   "id": "7488f16f",
   "metadata": {},
   "outputs": [],
   "source": [
    "import pandas as pd\n",
    "import numpy as np\n",
    "import matplotlib.pyplot as plt\n",
    "import seaborn as sns"
   ]
  },
  {
   "cell_type": "code",
   "execution_count": 2,
   "id": "9d9ebc4f",
   "metadata": {},
   "outputs": [],
   "source": [
    "from sklearn.model_selection import train_test_split\n",
    "from sklearn.impute import SimpleImputer\n",
    "from sklearn.compose import ColumnTransformer"
   ]
  },
  {
   "cell_type": "code",
   "execution_count": 3,
   "id": "953979cd",
   "metadata": {
    "scrolled": true
   },
   "outputs": [
    {
     "data": {
      "text/html": [
       "<div>\n",
       "<style scoped>\n",
       "    .dataframe tbody tr th:only-of-type {\n",
       "        vertical-align: middle;\n",
       "    }\n",
       "\n",
       "    .dataframe tbody tr th {\n",
       "        vertical-align: top;\n",
       "    }\n",
       "\n",
       "    .dataframe thead th {\n",
       "        text-align: right;\n",
       "    }\n",
       "</style>\n",
       "<table border=\"1\" class=\"dataframe\">\n",
       "  <thead>\n",
       "    <tr style=\"text-align: right;\">\n",
       "      <th></th>\n",
       "      <th>Age</th>\n",
       "      <th>Fare</th>\n",
       "      <th>Family</th>\n",
       "      <th>Survived</th>\n",
       "    </tr>\n",
       "  </thead>\n",
       "  <tbody>\n",
       "    <tr>\n",
       "      <th>617</th>\n",
       "      <td>26.0</td>\n",
       "      <td>16.1000</td>\n",
       "      <td>1</td>\n",
       "      <td>0</td>\n",
       "    </tr>\n",
       "    <tr>\n",
       "      <th>298</th>\n",
       "      <td>NaN</td>\n",
       "      <td>30.5000</td>\n",
       "      <td>0</td>\n",
       "      <td>1</td>\n",
       "    </tr>\n",
       "    <tr>\n",
       "      <th>155</th>\n",
       "      <td>51.0</td>\n",
       "      <td>61.3792</td>\n",
       "      <td>1</td>\n",
       "      <td>0</td>\n",
       "    </tr>\n",
       "    <tr>\n",
       "      <th>767</th>\n",
       "      <td>30.5</td>\n",
       "      <td>7.7500</td>\n",
       "      <td>0</td>\n",
       "      <td>0</td>\n",
       "    </tr>\n",
       "    <tr>\n",
       "      <th>327</th>\n",
       "      <td>36.0</td>\n",
       "      <td>NaN</td>\n",
       "      <td>0</td>\n",
       "      <td>1</td>\n",
       "    </tr>\n",
       "    <tr>\n",
       "      <th>216</th>\n",
       "      <td>27.0</td>\n",
       "      <td>7.9250</td>\n",
       "      <td>0</td>\n",
       "      <td>1</td>\n",
       "    </tr>\n",
       "    <tr>\n",
       "      <th>337</th>\n",
       "      <td>41.0</td>\n",
       "      <td>134.5000</td>\n",
       "      <td>0</td>\n",
       "      <td>1</td>\n",
       "    </tr>\n",
       "    <tr>\n",
       "      <th>561</th>\n",
       "      <td>40.0</td>\n",
       "      <td>7.8958</td>\n",
       "      <td>0</td>\n",
       "      <td>0</td>\n",
       "    </tr>\n",
       "  </tbody>\n",
       "</table>\n",
       "</div>"
      ],
      "text/plain": [
       "      Age      Fare  Family  Survived\n",
       "617  26.0   16.1000       1         0\n",
       "298   NaN   30.5000       0         1\n",
       "155  51.0   61.3792       1         0\n",
       "767  30.5    7.7500       0         0\n",
       "327  36.0       NaN       0         1\n",
       "216  27.0    7.9250       0         1\n",
       "337  41.0  134.5000       0         1\n",
       "561  40.0    7.8958       0         0"
      ]
     },
     "execution_count": 3,
     "metadata": {},
     "output_type": "execute_result"
    }
   ],
   "source": [
    "df=pd.read_csv('Titanic_toy.csv')\n",
    "df.sample(8)"
   ]
  },
  {
   "cell_type": "code",
   "execution_count": 4,
   "id": "c935cfa8",
   "metadata": {},
   "outputs": [
    {
     "data": {
      "text/plain": [
       "(891, 4)"
      ]
     },
     "execution_count": 4,
     "metadata": {},
     "output_type": "execute_result"
    }
   ],
   "source": [
    "df.shape"
   ]
  },
  {
   "cell_type": "code",
   "execution_count": 5,
   "id": "60c818c3",
   "metadata": {},
   "outputs": [
    {
     "name": "stdout",
     "output_type": "stream",
     "text": [
      "<class 'pandas.core.frame.DataFrame'>\n",
      "RangeIndex: 891 entries, 0 to 890\n",
      "Data columns (total 4 columns):\n",
      " #   Column    Non-Null Count  Dtype  \n",
      "---  ------    --------------  -----  \n",
      " 0   Age       714 non-null    float64\n",
      " 1   Fare      846 non-null    float64\n",
      " 2   Family    891 non-null    int64  \n",
      " 3   Survived  891 non-null    int64  \n",
      "dtypes: float64(2), int64(2)\n",
      "memory usage: 28.0 KB\n"
     ]
    }
   ],
   "source": [
    "df.info()"
   ]
  },
  {
   "cell_type": "code",
   "execution_count": 6,
   "id": "fc965190",
   "metadata": {},
   "outputs": [
    {
     "data": {
      "text/plain": [
       "Age         177\n",
       "Fare         45\n",
       "Family        0\n",
       "Survived      0\n",
       "dtype: int64"
      ]
     },
     "execution_count": 6,
     "metadata": {},
     "output_type": "execute_result"
    }
   ],
   "source": [
    "df.isnull().sum()"
   ]
  },
  {
   "cell_type": "code",
   "execution_count": 7,
   "id": "612ca478",
   "metadata": {},
   "outputs": [
    {
     "data": {
      "text/plain": [
       "Age         19.865320\n",
       "Fare         5.050505\n",
       "Family       0.000000\n",
       "Survived     0.000000\n",
       "dtype: float64"
      ]
     },
     "execution_count": 7,
     "metadata": {},
     "output_type": "execute_result"
    }
   ],
   "source": [
    "df.isnull().mean()*100 "
   ]
  },
  {
   "cell_type": "code",
   "execution_count": 8,
   "id": "33c53642",
   "metadata": {},
   "outputs": [],
   "source": [
    "X = df.drop(columns=['Survived'])\n",
    "y =df['Survived']"
   ]
  },
  {
   "cell_type": "code",
   "execution_count": 9,
   "id": "602607f5",
   "metadata": {},
   "outputs": [],
   "source": [
    "X_train,X_test,y_train,y_test = train_test_split(X,y,test_size=0.2,random_state=48)"
   ]
  },
  {
   "cell_type": "code",
   "execution_count": 10,
   "id": "a2e91152",
   "metadata": {},
   "outputs": [
    {
     "data": {
      "text/plain": [
       "((712, 3), (179, 3))"
      ]
     },
     "execution_count": 10,
     "metadata": {},
     "output_type": "execute_result"
    }
   ],
   "source": [
    "X_train.shape,X_test.shape"
   ]
  },
  {
   "cell_type": "code",
   "execution_count": 11,
   "id": "f9f00877",
   "metadata": {
    "scrolled": true
   },
   "outputs": [
    {
     "data": {
      "text/plain": [
       "Age       20.365169\n",
       "Fare       4.915730\n",
       "Family     0.000000\n",
       "dtype: float64"
      ]
     },
     "execution_count": 11,
     "metadata": {},
     "output_type": "execute_result"
    }
   ],
   "source": [
    "X_train.isnull().mean()*100"
   ]
  },
  {
   "cell_type": "code",
   "execution_count": 12,
   "id": "07348fd4",
   "metadata": {},
   "outputs": [],
   "source": [
    "mean_age = X_train['Age'].mean()\n",
    "median_age = X_train['Age'].median()\n",
    "\n",
    "mean_Fare = X_train['Fare'].mean()\n",
    "median_Fare = X_train['Fare'].median()"
   ]
  },
  {
   "cell_type": "code",
   "execution_count": 13,
   "id": "b5ab7d56",
   "metadata": {},
   "outputs": [
    {
     "name": "stderr",
     "output_type": "stream",
     "text": [
      "C:\\Users\\nagam\\AppData\\Local\\Temp/ipykernel_14464/2629358419.py:1: SettingWithCopyWarning: \n",
      "A value is trying to be set on a copy of a slice from a DataFrame.\n",
      "Try using .loc[row_indexer,col_indexer] = value instead\n",
      "\n",
      "See the caveats in the documentation: https://pandas.pydata.org/pandas-docs/stable/user_guide/indexing.html#returning-a-view-versus-a-copy\n",
      "  X_train['Age_mean'] = X_train['Age'].fillna(mean_age)\n",
      "C:\\Users\\nagam\\AppData\\Local\\Temp/ipykernel_14464/2629358419.py:2: SettingWithCopyWarning: \n",
      "A value is trying to be set on a copy of a slice from a DataFrame.\n",
      "Try using .loc[row_indexer,col_indexer] = value instead\n",
      "\n",
      "See the caveats in the documentation: https://pandas.pydata.org/pandas-docs/stable/user_guide/indexing.html#returning-a-view-versus-a-copy\n",
      "  X_train['Age_median'] = X_train['Age'].fillna(median_age)\n",
      "C:\\Users\\nagam\\AppData\\Local\\Temp/ipykernel_14464/2629358419.py:4: SettingWithCopyWarning: \n",
      "A value is trying to be set on a copy of a slice from a DataFrame.\n",
      "Try using .loc[row_indexer,col_indexer] = value instead\n",
      "\n",
      "See the caveats in the documentation: https://pandas.pydata.org/pandas-docs/stable/user_guide/indexing.html#returning-a-view-versus-a-copy\n",
      "  X_train['Fare_mean'] = X_train['Fare'].fillna(mean_Fare)\n",
      "C:\\Users\\nagam\\AppData\\Local\\Temp/ipykernel_14464/2629358419.py:5: SettingWithCopyWarning: \n",
      "A value is trying to be set on a copy of a slice from a DataFrame.\n",
      "Try using .loc[row_indexer,col_indexer] = value instead\n",
      "\n",
      "See the caveats in the documentation: https://pandas.pydata.org/pandas-docs/stable/user_guide/indexing.html#returning-a-view-versus-a-copy\n",
      "  X_train['Fare_median'] = X_train['Fare'].fillna(median_Fare)\n"
     ]
    }
   ],
   "source": [
    "X_train['Age_mean'] = X_train['Age'].fillna(mean_age)\n",
    "X_train['Age_median'] = X_train['Age'].fillna(median_age)\n",
    "\n",
    "X_train['Fare_mean'] = X_train['Fare'].fillna(mean_Fare)\n",
    "X_train['Fare_median'] = X_train['Fare'].fillna(median_Fare)"
   ]
  },
  {
   "cell_type": "code",
   "execution_count": 14,
   "id": "05ffb076",
   "metadata": {},
   "outputs": [
    {
     "data": {
      "text/html": [
       "<div>\n",
       "<style scoped>\n",
       "    .dataframe tbody tr th:only-of-type {\n",
       "        vertical-align: middle;\n",
       "    }\n",
       "\n",
       "    .dataframe tbody tr th {\n",
       "        vertical-align: top;\n",
       "    }\n",
       "\n",
       "    .dataframe thead th {\n",
       "        text-align: right;\n",
       "    }\n",
       "</style>\n",
       "<table border=\"1\" class=\"dataframe\">\n",
       "  <thead>\n",
       "    <tr style=\"text-align: right;\">\n",
       "      <th></th>\n",
       "      <th>Age</th>\n",
       "      <th>Fare</th>\n",
       "      <th>Family</th>\n",
       "      <th>Age_mean</th>\n",
       "      <th>Age_median</th>\n",
       "      <th>Fare_mean</th>\n",
       "      <th>Fare_median</th>\n",
       "    </tr>\n",
       "  </thead>\n",
       "  <tbody>\n",
       "    <tr>\n",
       "      <th>535</th>\n",
       "      <td>7.0</td>\n",
       "      <td>26.2500</td>\n",
       "      <td>2</td>\n",
       "      <td>7.000000</td>\n",
       "      <td>7.0</td>\n",
       "      <td>26.2500</td>\n",
       "      <td>26.2500</td>\n",
       "    </tr>\n",
       "    <tr>\n",
       "      <th>306</th>\n",
       "      <td>NaN</td>\n",
       "      <td>110.8833</td>\n",
       "      <td>0</td>\n",
       "      <td>29.804533</td>\n",
       "      <td>28.0</td>\n",
       "      <td>110.8833</td>\n",
       "      <td>110.8833</td>\n",
       "    </tr>\n",
       "    <tr>\n",
       "      <th>592</th>\n",
       "      <td>47.0</td>\n",
       "      <td>7.2500</td>\n",
       "      <td>0</td>\n",
       "      <td>47.000000</td>\n",
       "      <td>47.0</td>\n",
       "      <td>7.2500</td>\n",
       "      <td>7.2500</td>\n",
       "    </tr>\n",
       "    <tr>\n",
       "      <th>232</th>\n",
       "      <td>59.0</td>\n",
       "      <td>13.5000</td>\n",
       "      <td>0</td>\n",
       "      <td>59.000000</td>\n",
       "      <td>59.0</td>\n",
       "      <td>13.5000</td>\n",
       "      <td>13.5000</td>\n",
       "    </tr>\n",
       "    <tr>\n",
       "      <th>606</th>\n",
       "      <td>30.0</td>\n",
       "      <td>7.8958</td>\n",
       "      <td>0</td>\n",
       "      <td>30.000000</td>\n",
       "      <td>30.0</td>\n",
       "      <td>7.8958</td>\n",
       "      <td>7.8958</td>\n",
       "    </tr>\n",
       "  </tbody>\n",
       "</table>\n",
       "</div>"
      ],
      "text/plain": [
       "      Age      Fare  Family   Age_mean  Age_median  Fare_mean  Fare_median\n",
       "535   7.0   26.2500       2   7.000000         7.0    26.2500      26.2500\n",
       "306   NaN  110.8833       0  29.804533        28.0   110.8833     110.8833\n",
       "592  47.0    7.2500       0  47.000000        47.0     7.2500       7.2500\n",
       "232  59.0   13.5000       0  59.000000        59.0    13.5000      13.5000\n",
       "606  30.0    7.8958       0  30.000000        30.0     7.8958       7.8958"
      ]
     },
     "execution_count": 14,
     "metadata": {},
     "output_type": "execute_result"
    }
   ],
   "source": [
    "X_train.sample(5)"
   ]
  },
  {
   "cell_type": "code",
   "execution_count": 15,
   "id": "121e06fb",
   "metadata": {},
   "outputs": [
    {
     "name": "stdout",
     "output_type": "stream",
     "text": [
      "original age variable varience  215.80700185714886\n",
      "mean age variable imputation  171.7957286232716\n",
      "median age variable imputation  172.32457671877665\n",
      "\n",
      "\n",
      "original age variable varience  2347.763155700171\n",
      "mean age variable imputation  2232.1911297514994\n",
      "median age variable imputation  2246.009904157123\n"
     ]
    }
   ],
   "source": [
    "print(\"original age variable varience \",X_train['Age'].var())\n",
    "print(\"mean age variable imputation \",X_train['Age_mean'].var())\n",
    "print(\"median age variable imputation \",X_train['Age_median'].var())\n",
    "print('\\n')\n",
    "print(\"original age variable varience \",X_train['Fare'].var())\n",
    "print(\"mean age variable imputation \",X_train['Fare_mean'].var())\n",
    "print(\"median age variable imputation \",X_train['Fare_median'].var())"
   ]
  },
  {
   "cell_type": "code",
   "execution_count": 16,
   "id": "e3e3d280",
   "metadata": {},
   "outputs": [
    {
     "data": {
      "text/plain": [
       "<matplotlib.legend.Legend at 0x2205df99f70>"
      ]
     },
     "execution_count": 16,
     "metadata": {},
     "output_type": "execute_result"
    },
    {
     "data": {
      "image/png": "[encoded data removed]",
      "text/plain": [
       "<Figure size 432x288 with 1 Axes>"
      ]
     },
     "metadata": {
      "needs_background": "light"
     },
     "output_type": "display_data"
    }
   ],
   "source": [
    "fig = plt.figure()\n",
    "ax= fig.add_subplot(111)\n",
    "\n",
    "#original variable distribution\n",
    "X_train['Age'].plot(kind = 'kde', ax=ax, linewidth=2)\n",
    "\n",
    "#variable imputed with median\n",
    "X_train['Age_median'].plot(kind = 'kde', ax=ax,color ='red', linewidth=2)\n",
    "\n",
    "# variable imputed with mean\n",
    "X_train['Age_mean'].plot(kind = 'kde', ax=ax,color ='gray', linewidth=2)\n",
    "\n",
    "# add legends\n",
    "lines, labels = ax.get_legend_handles_labels()\n",
    "ax.legend(lines, labels, loc='best')"
   ]
  },
  {
   "cell_type": "code",
   "execution_count": 17,
   "id": "73830253",
   "metadata": {},
   "outputs": [
    {
     "data": {
      "text/plain": [
       "<matplotlib.legend.Legend at 0x2205e13ff70>"
      ]
     },
     "execution_count": 17,
     "metadata": {},
     "output_type": "execute_result"
    },
    {
     "data": {
      "image/png": "[encoded data removed]",
      "text/plain": [
       "<Figure size 432x288 with 1 Axes>"
      ]
     },
     "metadata": {
      "needs_background": "light"
     },
     "output_type": "display_data"
    }
   ],
   "source": [
    "fig = plt.figure()\n",
    "ax= fig.add_subplot(111)\n",
    "\n",
    "#original variable distribution\n",
    "X_train['Fare'].plot(kind = 'kde', ax=ax)\n",
    "\n",
    "#variable imputed with median\n",
    "X_train['Fare_median'].plot(kind = 'kde', ax=ax,color ='red')\n",
    "\n",
    "# variable imputed with mean\n",
    "X_train['Fare_mean'].plot(kind = 'kde', ax=ax,color ='gray')\n",
    "\n",
    "# add legends\n",
    "lines, labels = ax.get_legend_handles_labels()\n",
    "ax.legend(lines, labels, loc='best')"
   ]
  },
  {
   "cell_type": "code",
   "execution_count": 18,
   "id": "d9695d20",
   "metadata": {},
   "outputs": [
    {
     "data": {
      "text/html": [
       "<div>\n",
       "<style scoped>\n",
       "    .dataframe tbody tr th:only-of-type {\n",
       "        vertical-align: middle;\n",
       "    }\n",
       "\n",
       "    .dataframe tbody tr th {\n",
       "        vertical-align: top;\n",
       "    }\n",
       "\n",
       "    .dataframe thead th {\n",
       "        text-align: right;\n",
       "    }\n",
       "</style>\n",
       "<table border=\"1\" class=\"dataframe\">\n",
       "  <thead>\n",
       "    <tr style=\"text-align: right;\">\n",
       "      <th></th>\n",
       "      <th>Age</th>\n",
       "      <th>Fare</th>\n",
       "      <th>Family</th>\n",
       "      <th>Age_mean</th>\n",
       "      <th>Age_median</th>\n",
       "      <th>Fare_mean</th>\n",
       "      <th>Fare_median</th>\n",
       "    </tr>\n",
       "  </thead>\n",
       "  <tbody>\n",
       "    <tr>\n",
       "      <th>Age</th>\n",
       "      <td>215.807002</td>\n",
       "      <td>77.465380</td>\n",
       "      <td>-7.448828</td>\n",
       "      <td>215.807002</td>\n",
       "      <td>215.807002</td>\n",
       "      <td>72.641927</td>\n",
       "      <td>69.240090</td>\n",
       "    </tr>\n",
       "    <tr>\n",
       "      <th>Fare</th>\n",
       "      <td>77.465380</td>\n",
       "      <td>2347.763156</td>\n",
       "      <td>16.763605</td>\n",
       "      <td>60.821495</td>\n",
       "      <td>65.017780</td>\n",
       "      <td>2347.763156</td>\n",
       "      <td>2347.763156</td>\n",
       "    </tr>\n",
       "    <tr>\n",
       "      <th>Family</th>\n",
       "      <td>-7.448828</td>\n",
       "      <td>16.763605</td>\n",
       "      <td>2.586672</td>\n",
       "      <td>-5.929728</td>\n",
       "      <td>-5.843236</td>\n",
       "      <td>15.938392</td>\n",
       "      <td>16.051350</td>\n",
       "    </tr>\n",
       "    <tr>\n",
       "      <th>Age_mean</th>\n",
       "      <td>215.807002</td>\n",
       "      <td>60.821495</td>\n",
       "      <td>-5.929728</td>\n",
       "      <td>171.795729</td>\n",
       "      <td>171.795729</td>\n",
       "      <td>57.827469</td>\n",
       "      <td>55.119397</td>\n",
       "    </tr>\n",
       "    <tr>\n",
       "      <th>Age_median</th>\n",
       "      <td>215.807002</td>\n",
       "      <td>65.017780</td>\n",
       "      <td>-5.843236</td>\n",
       "      <td>171.795729</td>\n",
       "      <td>172.324577</td>\n",
       "      <td>61.817186</td>\n",
       "      <td>58.972713</td>\n",
       "    </tr>\n",
       "    <tr>\n",
       "      <th>Fare_mean</th>\n",
       "      <td>72.641927</td>\n",
       "      <td>2347.763156</td>\n",
       "      <td>15.938392</td>\n",
       "      <td>57.827469</td>\n",
       "      <td>61.817186</td>\n",
       "      <td>2232.191130</td>\n",
       "      <td>2232.191130</td>\n",
       "    </tr>\n",
       "    <tr>\n",
       "      <th>Fare_median</th>\n",
       "      <td>69.240090</td>\n",
       "      <td>2347.763156</td>\n",
       "      <td>16.051350</td>\n",
       "      <td>55.119397</td>\n",
       "      <td>58.972713</td>\n",
       "      <td>2232.191130</td>\n",
       "      <td>2246.009904</td>\n",
       "    </tr>\n",
       "  </tbody>\n",
       "</table>\n",
       "</div>"
      ],
      "text/plain": [
       "                    Age         Fare     Family    Age_mean  Age_median  \\\n",
       "Age          215.807002    77.465380  -7.448828  215.807002  215.807002   \n",
       "Fare          77.465380  2347.763156  16.763605   60.821495   65.017780   \n",
       "Family        -7.448828    16.763605   2.586672   -5.929728   -5.843236   \n",
       "Age_mean     215.807002    60.821495  -5.929728  171.795729  171.795729   \n",
       "Age_median   215.807002    65.017780  -5.843236  171.795729  172.324577   \n",
       "Fare_mean     72.641927  2347.763156  15.938392   57.827469   61.817186   \n",
       "Fare_median   69.240090  2347.763156  16.051350   55.119397   58.972713   \n",
       "\n",
       "               Fare_mean  Fare_median  \n",
       "Age            72.641927    69.240090  \n",
       "Fare         2347.763156  2347.763156  \n",
       "Family         15.938392    16.051350  \n",
       "Age_mean       57.827469    55.119397  \n",
       "Age_median     61.817186    58.972713  \n",
       "Fare_mean    2232.191130  2232.191130  \n",
       "Fare_median  2232.191130  2246.009904  "
      ]
     },
     "execution_count": 18,
     "metadata": {},
     "output_type": "execute_result"
    }
   ],
   "source": [
    "X_train.cov()"
   ]
  },
  {
   "cell_type": "code",
   "execution_count": 19,
   "id": "37a34059",
   "metadata": {},
   "outputs": [
    {
     "data": {
      "text/html": [
       "<div>\n",
       "<style scoped>\n",
       "    .dataframe tbody tr th:only-of-type {\n",
       "        vertical-align: middle;\n",
       "    }\n",
       "\n",
       "    .dataframe tbody tr th {\n",
       "        vertical-align: top;\n",
       "    }\n",
       "\n",
       "    .dataframe thead th {\n",
       "        text-align: right;\n",
       "    }\n",
       "</style>\n",
       "<table border=\"1\" class=\"dataframe\">\n",
       "  <thead>\n",
       "    <tr style=\"text-align: right;\">\n",
       "      <th></th>\n",
       "      <th>Age</th>\n",
       "      <th>Fare</th>\n",
       "      <th>Family</th>\n",
       "      <th>Age_mean</th>\n",
       "      <th>Age_median</th>\n",
       "      <th>Fare_mean</th>\n",
       "      <th>Fare_median</th>\n",
       "    </tr>\n",
       "  </thead>\n",
       "  <tbody>\n",
       "    <tr>\n",
       "      <th>Age</th>\n",
       "      <td>1.000000</td>\n",
       "      <td>0.099642</td>\n",
       "      <td>-0.335645</td>\n",
       "      <td>1.000000</td>\n",
       "      <td>1.000000</td>\n",
       "      <td>0.097545</td>\n",
       "      <td>0.092608</td>\n",
       "    </tr>\n",
       "    <tr>\n",
       "      <th>Fare</th>\n",
       "      <td>0.099642</td>\n",
       "      <td>1.000000</td>\n",
       "      <td>0.212744</td>\n",
       "      <td>0.094623</td>\n",
       "      <td>0.101033</td>\n",
       "      <td>1.000000</td>\n",
       "      <td>1.000000</td>\n",
       "    </tr>\n",
       "    <tr>\n",
       "      <th>Family</th>\n",
       "      <td>-0.335645</td>\n",
       "      <td>0.212744</td>\n",
       "      <td>1.000000</td>\n",
       "      <td>-0.281292</td>\n",
       "      <td>-0.276764</td>\n",
       "      <td>0.209753</td>\n",
       "      <td>0.210589</td>\n",
       "    </tr>\n",
       "    <tr>\n",
       "      <th>Age_mean</th>\n",
       "      <td>1.000000</td>\n",
       "      <td>0.094623</td>\n",
       "      <td>-0.281292</td>\n",
       "      <td>1.000000</td>\n",
       "      <td>0.998464</td>\n",
       "      <td>0.093382</td>\n",
       "      <td>0.088734</td>\n",
       "    </tr>\n",
       "    <tr>\n",
       "      <th>Age_median</th>\n",
       "      <td>1.000000</td>\n",
       "      <td>0.101033</td>\n",
       "      <td>-0.276764</td>\n",
       "      <td>0.998464</td>\n",
       "      <td>1.000000</td>\n",
       "      <td>0.099671</td>\n",
       "      <td>0.094792</td>\n",
       "    </tr>\n",
       "    <tr>\n",
       "      <th>Fare_mean</th>\n",
       "      <td>0.097545</td>\n",
       "      <td>1.000000</td>\n",
       "      <td>0.209753</td>\n",
       "      <td>0.093382</td>\n",
       "      <td>0.099671</td>\n",
       "      <td>1.000000</td>\n",
       "      <td>0.996919</td>\n",
       "    </tr>\n",
       "    <tr>\n",
       "      <th>Fare_median</th>\n",
       "      <td>0.092608</td>\n",
       "      <td>1.000000</td>\n",
       "      <td>0.210589</td>\n",
       "      <td>0.088734</td>\n",
       "      <td>0.094792</td>\n",
       "      <td>0.996919</td>\n",
       "      <td>1.000000</td>\n",
       "    </tr>\n",
       "  </tbody>\n",
       "</table>\n",
       "</div>"
      ],
      "text/plain": [
       "                  Age      Fare    Family  Age_mean  Age_median  Fare_mean  \\\n",
       "Age          1.000000  0.099642 -0.335645  1.000000    1.000000   0.097545   \n",
       "Fare         0.099642  1.000000  0.212744  0.094623    0.101033   1.000000   \n",
       "Family      -0.335645  0.212744  1.000000 -0.281292   -0.276764   0.209753   \n",
       "Age_mean     1.000000  0.094623 -0.281292  1.000000    0.998464   0.093382   \n",
       "Age_median   1.000000  0.101033 -0.276764  0.998464    1.000000   0.099671   \n",
       "Fare_mean    0.097545  1.000000  0.209753  0.093382    0.099671   1.000000   \n",
       "Fare_median  0.092608  1.000000  0.210589  0.088734    0.094792   0.996919   \n",
       "\n",
       "             Fare_median  \n",
       "Age             0.092608  \n",
       "Fare            1.000000  \n",
       "Family          0.210589  \n",
       "Age_mean        0.088734  \n",
       "Age_median      0.094792  \n",
       "Fare_mean       0.996919  \n",
       "Fare_median     1.000000  "
      ]
     },
     "execution_count": 19,
     "metadata": {},
     "output_type": "execute_result"
    }
   ],
   "source": [
    "X_train.corr()"
   ]
  },
  {
   "cell_type": "code",
   "execution_count": 20,
   "id": "dd483a25",
   "metadata": {},
   "outputs": [
    {
     "data": {
      "text/plain": [
       "<AxesSubplot:>"
      ]
     },
     "execution_count": 20,
     "metadata": {},
     "output_type": "execute_result"
    },
    {
     "data": {
      "image/png": "[encoded data removed]",
      "text/plain": [
       "<Figure size 432x288 with 1 Axes>"
      ]
     },
     "metadata": {
      "needs_background": "light"
     },
     "output_type": "display_data"
    }
   ],
   "source": [
    "X_train[['Age','Age_median','Age_mean']].boxplot()# for seeing outliers"
   ]
  },
  {
   "cell_type": "code",
   "execution_count": 21,
   "id": "69ef5632",
   "metadata": {},
   "outputs": [
    {
     "data": {
      "text/plain": [
       "<AxesSubplot:>"
      ]
     },
     "execution_count": 21,
     "metadata": {},
     "output_type": "execute_result"
    },
    {
     "data": {
      "image/png": "[encoded data removed]",
      "text/plain": [
       "<Figure size 432x288 with 1 Axes>"
      ]
     },
     "metadata": {
      "needs_background": "light"
     },
     "output_type": "display_data"
    }
   ],
   "source": [
    "X_train[['Fare','Fare_median','Fare_mean']].boxplot()# for seeing outliers"
   ]
  },
  {
   "cell_type": "markdown",
   "id": "fd0b64e9",
   "metadata": {},
   "source": [
    "### Using Sklearn"
   ]
  },
  {
   "cell_type": "code",
   "execution_count": 22,
   "id": "cef6b16c",
   "metadata": {},
   "outputs": [],
   "source": [
    "X_train,X_test,y_train,y_test = train_test_split(X,y,test_size=0.2,random_state=48)"
   ]
  },
  {
   "cell_type": "code",
   "execution_count": 23,
   "id": "613c4e2c",
   "metadata": {},
   "outputs": [],
   "source": [
    "imputer1 =SimpleImputer(strategy ='median')\n",
    "imputer2 =SimpleImputer(strategy ='mean')"
   ]
  },
  {
   "cell_type": "code",
   "execution_count": 24,
   "id": "65bbc203",
   "metadata": {},
   "outputs": [],
   "source": [
    "trf = ColumnTransformer([\n",
    "    ('imputer1',imputer1,['Age']),\n",
    "    ('imputer2',imputer2,['Fare'])\n",
    "],remainder ='passthrough')"
   ]
  },
  {
   "cell_type": "code",
   "execution_count": 25,
   "id": "597ddc0f",
   "metadata": {},
   "outputs": [
    {
     "data": {
      "text/plain": [
       "ColumnTransformer(remainder='passthrough',\n",
       "                  transformers=[('imputer1', SimpleImputer(strategy='median'),\n",
       "                                 ['Age']),\n",
       "                                ('imputer2', SimpleImputer(), ['Fare'])])"
      ]
     },
     "execution_count": 25,
     "metadata": {},
     "output_type": "execute_result"
    }
   ],
   "source": [
    "trf.fit(X_train)"
   ]
  },
  {
   "cell_type": "code",
   "execution_count": 26,
   "id": "b7fe04b8",
   "metadata": {},
   "outputs": [
    {
     "data": {
      "text/plain": [
       "array([31.63649631])"
      ]
     },
     "execution_count": 26,
     "metadata": {},
     "output_type": "execute_result"
    }
   ],
   "source": [
    "trf.named_transformers_['imputer2'].statistics_"
   ]
  },
  {
   "cell_type": "code",
   "execution_count": 27,
   "id": "fba5cf6e",
   "metadata": {},
   "outputs": [
    {
     "data": {
      "text/plain": [
       "array([28.])"
      ]
     },
     "execution_count": 27,
     "metadata": {},
     "output_type": "execute_result"
    }
   ],
   "source": [
    "trf.named_transformers_['imputer1'].statistics_"
   ]
  },
  {
   "cell_type": "code",
   "execution_count": 28,
   "id": "5ecae277",
   "metadata": {},
   "outputs": [],
   "source": [
    "X_train = trf.fit_transform(X_train)\n",
    "X_test = trf.transform(X_test)"
   ]
  },
  {
   "cell_type": "code",
   "execution_count": 29,
   "id": "3fe10dae",
   "metadata": {},
   "outputs": [
    {
     "data": {
      "text/plain": [
       "array([[  9.    ,  31.3875,   6.    ],\n",
       "       [ 28.    ,   7.8958,   0.    ],\n",
       "       [ 28.    ,  69.55  ,  10.    ],\n",
       "       ...,\n",
       "       [ 41.    , 134.5   ,   0.    ],\n",
       "       [ 28.    ,   8.05  ,   0.    ],\n",
       "       [ 36.    ,  26.2875,   0.    ]])"
      ]
     },
     "execution_count": 29,
     "metadata": {},
     "output_type": "execute_result"
    }
   ],
   "source": [
    "X_train"
   ]
  },
  {
   "cell_type": "code",
   "execution_count": null,
   "id": "4a5403e8",
   "metadata": {},
   "outputs": [],
   "source": []
  }
 ],
 "metadata": {
  "kernelspec": {
   "display_name": "Python 3 (ipykernel)",
   "language": "python",
   "name": "python3"
  },
  "language_info": {
   "codemirror_mode": {
    "name": "ipython",
    "version": 3
   },
   "file_extension": ".py",
   "mimetype": "text/x-python",
   "name": "python",
   "nbconvert_exporter": "python",
   "pygments_lexer": "ipython3",
   "version": "3.9.7"
  }
 },
 "nbformat": 4,
 "nbformat_minor": 5
}
