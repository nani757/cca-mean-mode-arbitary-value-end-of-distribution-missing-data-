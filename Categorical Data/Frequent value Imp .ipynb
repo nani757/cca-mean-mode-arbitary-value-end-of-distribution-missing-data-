{
 "cells": [
  {
   "cell_type": "code",
   "execution_count": 1,
   "id": "948217ea",
   "metadata": {},
   "outputs": [],
   "source": [
    "import pandas as pd\n",
    "import numpy as np\n",
    "import matplotlib.pyplot as plt"
   ]
  },
  {
   "cell_type": "code",
   "execution_count": 2,
   "id": "97f0d676",
   "metadata": {},
   "outputs": [
    {
     "data": {
      "text/html": [
       "<div>\n",
       "<style scoped>\n",
       "    .dataframe tbody tr th:only-of-type {\n",
       "        vertical-align: middle;\n",
       "    }\n",
       "\n",
       "    .dataframe tbody tr th {\n",
       "        vertical-align: top;\n",
       "    }\n",
       "\n",
       "    .dataframe thead th {\n",
       "        text-align: right;\n",
       "    }\n",
       "</style>\n",
       "<table border=\"1\" class=\"dataframe\">\n",
       "  <thead>\n",
       "    <tr style=\"text-align: right;\">\n",
       "      <th></th>\n",
       "      <th>FireplaceQu</th>\n",
       "      <th>GarageQual</th>\n",
       "      <th>SalePrice</th>\n",
       "    </tr>\n",
       "  </thead>\n",
       "  <tbody>\n",
       "    <tr>\n",
       "      <th>1212</th>\n",
       "      <td>NaN</td>\n",
       "      <td>TA</td>\n",
       "      <td>113000</td>\n",
       "    </tr>\n",
       "    <tr>\n",
       "      <th>1227</th>\n",
       "      <td>NaN</td>\n",
       "      <td>TA</td>\n",
       "      <td>147000</td>\n",
       "    </tr>\n",
       "    <tr>\n",
       "      <th>632</th>\n",
       "      <td>TA</td>\n",
       "      <td>TA</td>\n",
       "      <td>82500</td>\n",
       "    </tr>\n",
       "    <tr>\n",
       "      <th>147</th>\n",
       "      <td>Gd</td>\n",
       "      <td>TA</td>\n",
       "      <td>222500</td>\n",
       "    </tr>\n",
       "    <tr>\n",
       "      <th>1453</th>\n",
       "      <td>NaN</td>\n",
       "      <td>NaN</td>\n",
       "      <td>84500</td>\n",
       "    </tr>\n",
       "    <tr>\n",
       "      <th>894</th>\n",
       "      <td>NaN</td>\n",
       "      <td>TA</td>\n",
       "      <td>118858</td>\n",
       "    </tr>\n",
       "    <tr>\n",
       "      <th>1435</th>\n",
       "      <td>Gd</td>\n",
       "      <td>TA</td>\n",
       "      <td>174000</td>\n",
       "    </tr>\n",
       "    <tr>\n",
       "      <th>916</th>\n",
       "      <td>NaN</td>\n",
       "      <td>TA</td>\n",
       "      <td>35311</td>\n",
       "    </tr>\n",
       "    <tr>\n",
       "      <th>98</th>\n",
       "      <td>NaN</td>\n",
       "      <td>Fa</td>\n",
       "      <td>83000</td>\n",
       "    </tr>\n",
       "    <tr>\n",
       "      <th>1180</th>\n",
       "      <td>NaN</td>\n",
       "      <td>TA</td>\n",
       "      <td>250000</td>\n",
       "    </tr>\n",
       "    <tr>\n",
       "      <th>1126</th>\n",
       "      <td>TA</td>\n",
       "      <td>TA</td>\n",
       "      <td>174000</td>\n",
       "    </tr>\n",
       "    <tr>\n",
       "      <th>1303</th>\n",
       "      <td>NaN</td>\n",
       "      <td>TA</td>\n",
       "      <td>232000</td>\n",
       "    </tr>\n",
       "  </tbody>\n",
       "</table>\n",
       "</div>"
      ],
      "text/plain": [
       "     FireplaceQu GarageQual  SalePrice\n",
       "1212         NaN         TA     113000\n",
       "1227         NaN         TA     147000\n",
       "632           TA         TA      82500\n",
       "147           Gd         TA     222500\n",
       "1453         NaN        NaN      84500\n",
       "894          NaN         TA     118858\n",
       "1435          Gd         TA     174000\n",
       "916          NaN         TA      35311\n",
       "98           NaN         Fa      83000\n",
       "1180         NaN         TA     250000\n",
       "1126          TA         TA     174000\n",
       "1303         NaN         TA     232000"
      ]
     },
     "execution_count": 2,
     "metadata": {},
     "output_type": "execute_result"
    }
   ],
   "source": [
    "df= pd.read_csv(\"housing train.csv\",usecols = ['GarageQual','FireplaceQu','SalePrice'])\n",
    "df.sample(12)"
   ]
  },
  {
   "cell_type": "code",
   "execution_count": 3,
   "id": "274ab29e",
   "metadata": {},
   "outputs": [
    {
     "data": {
      "text/plain": [
       "FireplaceQu    47.260274\n",
       "GarageQual      5.547945\n",
       "SalePrice       0.000000\n",
       "dtype: float64"
      ]
     },
     "execution_count": 3,
     "metadata": {},
     "output_type": "execute_result"
    }
   ],
   "source": [
    "df.isnull().mean()*100"
   ]
  },
  {
   "cell_type": "code",
   "execution_count": 4,
   "id": "ea3f00f6",
   "metadata": {},
   "outputs": [
    {
     "data": {
      "text/plain": [
       "Text(0, 0.5, 'number of houses')"
      ]
     },
     "execution_count": 4,
     "metadata": {},
     "output_type": "execute_result"
    },
    {
     "data": {
      "image/png": "[encoded data removed]",
      "text/plain": [
       "<Figure size 432x288 with 1 Axes>"
      ]
     },
     "metadata": {
      "needs_background": "light"
     },
     "output_type": "display_data"
    }
   ],
   "source": [
    "df['GarageQual'].value_counts().sort_values(ascending=False).plot.bar()\n",
    "plt.xlabel(\"GarageQual\")\n",
    "plt.ylabel('number of houses')"
   ]
  },
  {
   "cell_type": "code",
   "execution_count": 5,
   "id": "fa435bd8",
   "metadata": {},
   "outputs": [
    {
     "data": {
      "text/plain": [
       "<AxesSubplot:>"
      ]
     },
     "execution_count": 5,
     "metadata": {},
     "output_type": "execute_result"
    },
    {
     "data": {
      "image/png": "[encoded data removed]",
      "text/plain": [
       "<Figure size 432x288 with 1 Axes>"
      ]
     },
     "metadata": {
      "needs_background": "light"
     },
     "output_type": "display_data"
    }
   ],
   "source": [
    "df['GarageQual'].value_counts().plot(kind='bar')"
   ]
  },
  {
   "cell_type": "code",
   "execution_count": 6,
   "id": "da0512c6",
   "metadata": {},
   "outputs": [
    {
     "data": {
      "text/plain": [
       "0    TA\n",
       "dtype: object"
      ]
     },
     "execution_count": 6,
     "metadata": {},
     "output_type": "execute_result"
    }
   ],
   "source": [
    "df['GarageQual'].mode()"
   ]
  },
  {
   "cell_type": "code",
   "execution_count": 7,
   "id": "db751bf6",
   "metadata": {},
   "outputs": [
    {
     "data": {
      "text/plain": [
       "Text(0.5, 1.0, 'GarageQual')"
      ]
     },
     "execution_count": 7,
     "metadata": {},
     "output_type": "execute_result"
    },
    {
     "data": {
      "image/png": "[encoded data removed]",
      "text/plain": [
       "<Figure size 432x288 with 1 Axes>"
      ]
     },
     "metadata": {
      "needs_background": "light"
     },
     "output_type": "display_data"
    }
   ],
   "source": [
    "fig = plt.figure()\n",
    "ax = fig.add_subplot(111)\n",
    "\n",
    "df[df['GarageQual'] == 'TA']['SalePrice'].plot(kind = 'kde',ax=ax)\n",
    "\n",
    "df[df['GarageQual'].isnull()]['SalePrice'].plot(kind='kde' ,ax=ax,color='Red')\n",
    "\n",
    "lines,labels = ax.get_legend_handles_labels()\n",
    "labels = ['Houses with TA','Houses with NA']\n",
    "ax.legend(lines,labels,loc='best')\n",
    "\n",
    "plt.title('GarageQual')"
   ]
  },
  {
   "cell_type": "code",
   "execution_count": 8,
   "id": "d8697067",
   "metadata": {},
   "outputs": [],
   "source": [
    "temp = df[df['GarageQual'] == 'TA']['SalePrice'] # storig whole i temp variable"
   ]
  },
  {
   "cell_type": "code",
   "execution_count": 9,
   "id": "c1734a05",
   "metadata": {},
   "outputs": [],
   "source": [
    "df['GarageQual'].fillna('TA',inplace=True)#filling missing values with TA"
   ]
  },
  {
   "cell_type": "code",
   "execution_count": 10,
   "id": "ad1153d1",
   "metadata": {},
   "outputs": [
    {
     "data": {
      "text/plain": [
       "<AxesSubplot:>"
      ]
     },
     "execution_count": 10,
     "metadata": {},
     "output_type": "execute_result"
    },
    {
     "data": {
      "image/png": "[encoded data removed]",
      "text/plain": [
       "<Figure size 432x288 with 1 Axes>"
      ]
     },
     "metadata": {
      "needs_background": "light"
     },
     "output_type": "display_data"
    }
   ],
   "source": [
    "df['GarageQual'].value_counts().plot(kind='bar')"
   ]
  },
  {
   "cell_type": "code",
   "execution_count": 11,
   "id": "8d0e3126",
   "metadata": {},
   "outputs": [
    {
     "data": {
      "text/plain": [
       "Text(0.5, 1.0, 'GarageQual')"
      ]
     },
     "execution_count": 11,
     "metadata": {},
     "output_type": "execute_result"
    },
    {
     "data": {
      "image/png": "[encoded data removed]",
      "text/plain": [
       "<Figure size 432x288 with 1 Axes>"
      ]
     },
     "metadata": {
      "needs_background": "light"
     },
     "output_type": "display_data"
    }
   ],
   "source": [
    "fig = plt.figure()\n",
    "ax = fig.add_subplot(111)\n",
    "\n",
    "temp.plot(kind='kde',ax=ax)\n",
    "\n",
    "#distribution of the variable after impution\n",
    "df[df['GarageQual']== 'TA']['SalePrice'].plot(kind='kde' ,ax=ax,color='Red')\n",
    "\n",
    "lines,labels = ax.get_legend_handles_labels()\n",
    "labels = ['oreiginal variable','Imputed variable']\n",
    "ax.legend(lines,labels,loc='best')\n",
    "\n",
    "#add title\n",
    "plt.title('GarageQual')"
   ]
  },
  {
   "cell_type": "code",
   "execution_count": 12,
   "id": "3e84800c",
   "metadata": {},
   "outputs": [
    {
     "data": {
      "text/plain": [
       "<AxesSubplot:>"
      ]
     },
     "execution_count": 12,
     "metadata": {},
     "output_type": "execute_result"
    },
    {
     "data": {
      "image/png": "[encoded data removed]",
      "text/plain": [
       "<Figure size 432x288 with 1 Axes>"
      ]
     },
     "metadata": {
      "needs_background": "light"
     },
     "output_type": "display_data"
    }
   ],
   "source": [
    "df['FireplaceQu'].value_counts().plot(kind='bar')"
   ]
  },
  {
   "cell_type": "code",
   "execution_count": 13,
   "id": "ac861767",
   "metadata": {},
   "outputs": [
    {
     "data": {
      "text/plain": [
       "0    Gd\n",
       "dtype: object"
      ]
     },
     "execution_count": 13,
     "metadata": {},
     "output_type": "execute_result"
    }
   ],
   "source": [
    "df['FireplaceQu'].mode()"
   ]
  },
  {
   "cell_type": "code",
   "execution_count": 14,
   "id": "9ef03249",
   "metadata": {},
   "outputs": [
    {
     "data": {
      "text/plain": [
       "Text(0.5, 1.0, 'FireplaceQu')"
      ]
     },
     "execution_count": 14,
     "metadata": {},
     "output_type": "execute_result"
    },
    {
     "data": {
      "image/png": "[encoded data removed]",
      "text/plain": [
       "<Figure size 432x288 with 1 Axes>"
      ]
     },
     "metadata": {
      "needs_background": "light"
     },
     "output_type": "display_data"
    }
   ],
   "source": [
    "fig = plt.figure()\n",
    "ax = fig.add_subplot(111)\n",
    "\n",
    "df[df['FireplaceQu'] == 'Gd']['SalePrice'].plot(kind = 'kde',ax=ax)\n",
    "\n",
    "df[df['FireplaceQu'].isnull()]['SalePrice'].plot(kind='kde' ,ax=ax,color='Red')\n",
    "\n",
    "lines,labels = ax.get_legend_handles_labels()\n",
    "labels = ['Houses with Gd','Houses with NA']\n",
    "ax.legend(lines,labels,loc='best')\n",
    "\n",
    "plt.title('FireplaceQu')"
   ]
  },
  {
   "cell_type": "code",
   "execution_count": 15,
   "id": "a1f24092",
   "metadata": {},
   "outputs": [],
   "source": [
    "temp = df[df['FireplaceQu'] == 'Gd']['SalePrice'] # storig whole i temp variable"
   ]
  },
  {
   "cell_type": "code",
   "execution_count": 16,
   "id": "1db261b9",
   "metadata": {},
   "outputs": [],
   "source": [
    "df['FireplaceQu'].fillna('Gd',inplace=True)#filling missing values with TA"
   ]
  },
  {
   "cell_type": "code",
   "execution_count": 17,
   "id": "91cab708",
   "metadata": {},
   "outputs": [
    {
     "data": {
      "text/plain": [
       "<AxesSubplot:>"
      ]
     },
     "execution_count": 17,
     "metadata": {},
     "output_type": "execute_result"
    },
    {
     "data": {
      "image/png": "[encoded data removed]",
      "text/plain": [
       "<Figure size 432x288 with 1 Axes>"
      ]
     },
     "metadata": {
      "needs_background": "light"
     },
     "output_type": "display_data"
    }
   ],
   "source": [
    "df['FireplaceQu'].value_counts().plot(kind='bar')"
   ]
  },
  {
   "cell_type": "code",
   "execution_count": 18,
   "id": "d117c30e",
   "metadata": {},
   "outputs": [
    {
     "data": {
      "text/plain": [
       "Text(0.5, 1.0, 'FireplaceQu')"
      ]
     },
     "execution_count": 18,
     "metadata": {},
     "output_type": "execute_result"
    },
    {
     "data": {
      "image/png": "[encoded data removed]",
      "text/plain": [
       "<Figure size 432x288 with 1 Axes>"
      ]
     },
     "metadata": {
      "needs_background": "light"
     },
     "output_type": "display_data"
    }
   ],
   "source": [
    "fig = plt.figure()\n",
    "ax = fig.add_subplot(111)\n",
    "\n",
    "temp.plot(kind='kde',ax=ax)\n",
    "\n",
    "#distribution of the variable after impution\n",
    "df[df['FireplaceQu']== 'Gd']['SalePrice'].plot(kind='kde' ,ax=ax,color='Red')\n",
    "\n",
    "lines,labels = ax.get_legend_handles_labels()\n",
    "labels = ['oeiginal variable','Imputed variable']\n",
    "ax.legend(lines,labels,loc='best')\n",
    "\n",
    "#add title\n",
    "plt.title('FireplaceQu')"
   ]
  },
  {
   "cell_type": "code",
   "execution_count": 19,
   "id": "4d8835fc",
   "metadata": {},
   "outputs": [],
   "source": [
    "from sklearn.model_selection  import train_test_split\n",
    "X_train,X_test,y_train,y_test = train_test_split(df.drop(columns=['SalePrice']),df['SalePrice'],test_size=0.2,random_state=44)"
   ]
  },
  {
   "cell_type": "code",
   "execution_count": 20,
   "id": "4c2a9891",
   "metadata": {},
   "outputs": [],
   "source": [
    "from sklearn.impute import SimpleImputer\n",
    "imputer = SimpleImputer(strategy='most_frequent')"
   ]
  },
  {
   "cell_type": "code",
   "execution_count": 21,
   "id": "ff806eca",
   "metadata": {},
   "outputs": [],
   "source": [
    "X_train = imputer.fit_transform(X_train)\n",
    "X_test = imputer.transform(X_test)"
   ]
  },
  {
   "cell_type": "code",
   "execution_count": 22,
   "id": "f0e2c858",
   "metadata": {},
   "outputs": [
    {
     "data": {
      "text/plain": [
       "array(['Gd', 'TA'], dtype=object)"
      ]
     },
     "execution_count": 22,
     "metadata": {},
     "output_type": "execute_result"
    }
   ],
   "source": [
    "imputer.statistics_"
   ]
  },
  {
   "cell_type": "code",
   "execution_count": null,
   "id": "b3421b88",
   "metadata": {},
   "outputs": [],
   "source": [
    "    "
   ]
  }
 ],
 "metadata": {
  "kernelspec": {
   "display_name": "Python 3 (ipykernel)",
   "language": "python",
   "name": "python3"
  },
  "language_info": {
   "codemirror_mode": {
    "name": "ipython",
    "version": 3
   },
   "file_extension": ".py",
   "mimetype": "text/x-python",
   "name": "python",
   "nbconvert_exporter": "python",
   "pygments_lexer": "ipython3",
   "version": "3.9.7"
  }
 },
 "nbformat": 4,
 "nbformat_minor": 5
}
